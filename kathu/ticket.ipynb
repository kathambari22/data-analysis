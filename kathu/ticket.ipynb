{
 "cells": [
  {
   "cell_type": "code",
   "execution_count": 1,
   "id": "4d720104",
   "metadata": {},
   "outputs": [
    {
     "name": "stdout",
     "output_type": "stream",
     "text": [
      " enter total seat cpacity:50\n",
      "your journey is not confirmed\n",
      "only1 tickets booked\n",
      "your journey is not confirmed\n",
      "only2 tickets booked\n",
      "your journey is not confirmed\n",
      "only3 tickets booked\n",
      "your journey is not confirmed\n",
      "only4 tickets booked\n",
      "your journey is not confirmed\n",
      "only5 tickets booked\n",
      "your journey is not confirmed\n",
      "only6 tickets booked\n",
      "your journey is not confirmed\n",
      "only7 tickets booked\n",
      "your journey is not confirmed\n",
      "only8 tickets booked\n",
      "your journey is not confirmed\n",
      "only9 tickets booked\n",
      "your journey is not confirmed\n",
      "only10 tickets booked\n",
      "your journey is not confirmed\n",
      "only11 tickets booked\n",
      "your journey is not confirmed\n",
      "only12 tickets booked\n",
      "your journey is not confirmed\n",
      "only13 tickets booked\n",
      "your journey is not confirmed\n",
      "only14 tickets booked\n",
      "your journey is not confirmed\n",
      "only15 tickets booked\n",
      "your journey is not confirmed\n",
      "only16 tickets booked\n",
      "your journey is not confirmed\n",
      "only17 tickets booked\n",
      "your journey is not confirmed\n",
      "only18 tickets booked\n",
      "your journey is not confirmed\n",
      "only19 tickets booked\n",
      "your journey is not confirmed\n",
      "only20 tickets booked\n",
      "your journey is not confirmed\n",
      "only21 tickets booked\n",
      "your journey is not confirmed\n",
      "only22 tickets booked\n",
      "your journey is not confirmed\n",
      "only23 tickets booked\n",
      "your journey is not confirmed\n",
      "only24 tickets booked\n",
      "your journey is not confirmed\n",
      "only25 tickets booked\n",
      "50% of the ticket filled. the journey confirmed\n"
     ]
    }
   ],
   "source": [
    "AAN=int(input(\" enter total seat cpacity:\"))\n",
    "counter=1\n",
    "while counter<=AAN/2:\n",
    "    print(f\"your journey is not confirmed\")\n",
    "    print(f\"only{counter} tickets booked\")\n",
    "    counter+=1\n",
    "print(\"50% of the ticket filled. the journey confirmed\")\n"
   ]
  },
  {
   "cell_type": "code",
   "execution_count": 2,
   "id": "4eaf90a5",
   "metadata": {},
   "outputs": [
    {
     "name": "stdout",
     "output_type": "stream",
     "text": [
      "it reached its destination\n"
     ]
    }
   ],
   "source": [
    "a=0\n",
    "b=1\n",
    "c=a+b\n",
    "while counter<=10:\n",
    "    print(c)\n",
    "    counter+=1\n",
    "print(\"it reached its destination\")\n"
   ]
  },
  {
   "cell_type": "code",
   "execution_count": 3,
   "id": "7dcf5265",
   "metadata": {},
   "outputs": [
    {
     "name": "stdout",
     "output_type": "stream",
     "text": [
      "enter input:40\n",
      "1\n",
      "2\n",
      "3\n",
      "5\n",
      "8\n",
      "13\n",
      "21\n",
      "34\n",
      "55\n",
      "89\n",
      "144\n",
      "233\n",
      "377\n",
      "610\n",
      "987\n",
      "1597\n",
      "2584\n",
      "4181\n",
      "6765\n",
      "10946\n",
      "17711\n",
      "28657\n",
      "46368\n",
      "75025\n",
      "121393\n",
      "196418\n",
      "317811\n",
      "514229\n",
      "832040\n",
      "1346269\n",
      "2178309\n",
      "3524578\n",
      "5702887\n",
      "9227465\n",
      "14930352\n",
      "24157817\n",
      "39088169\n",
      "63245986\n",
      "102334155\n",
      "165580141\n",
      "267914296\n"
     ]
    }
   ],
   "source": [
    "inp=int(input(\"enter input:\"))\n",
    "counter=0\n",
    "x=0\n",
    "y=1\n",
    "while counter<=inp:\n",
    "    z=x+y\n",
    "    x=y\n",
    "    y=z\n",
    "    print(z)\n",
    "    counter+=1"
   ]
  },
  {
   "cell_type": "code",
   "execution_count": null,
   "id": "b9cf4c87",
   "metadata": {},
   "outputs": [],
   "source": []
  }
 ],
 "metadata": {
  "kernelspec": {
   "display_name": "Python 3 (ipykernel)",
   "language": "python",
   "name": "python3"
  },
  "language_info": {
   "codemirror_mode": {
    "name": "ipython",
    "version": 3
   },
   "file_extension": ".py",
   "mimetype": "text/x-python",
   "name": "python",
   "nbconvert_exporter": "python",
   "pygments_lexer": "ipython3",
   "version": "3.10.8"
  }
 },
 "nbformat": 4,
 "nbformat_minor": 5
}
