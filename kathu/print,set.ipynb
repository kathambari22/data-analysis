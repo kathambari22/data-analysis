{
 "cells": [
  {
   "cell_type": "code",
   "execution_count": 1,
   "id": "1266a10a",
   "metadata": {},
   "outputs": [],
   "source": [
    "a=range(1,10,2)"
   ]
  },
  {
   "cell_type": "code",
   "execution_count": 2,
   "id": "5fa9dfd0",
   "metadata": {},
   "outputs": [
    {
     "data": {
      "text/plain": [
       "range(1, 10, 2)"
      ]
     },
     "execution_count": 2,
     "metadata": {},
     "output_type": "execute_result"
    }
   ],
   "source": [
    "a"
   ]
  },
  {
   "cell_type": "code",
   "execution_count": 3,
   "id": "51960c7d",
   "metadata": {},
   "outputs": [
    {
     "name": "stdout",
     "output_type": "stream",
     "text": [
      "range(1, 10, 2)\n"
     ]
    }
   ],
   "source": [
    "print(a)"
   ]
  },
  {
   "cell_type": "code",
   "execution_count": 4,
   "id": "9eae8791",
   "metadata": {},
   "outputs": [
    {
     "name": "stdout",
     "output_type": "stream",
     "text": [
      "[1, 3, 5, 7, 9]\n"
     ]
    }
   ],
   "source": [
    "print(list(a))"
   ]
  },
  {
   "cell_type": "code",
   "execution_count": 5,
   "id": "8a939831",
   "metadata": {},
   "outputs": [],
   "source": [
    "kathu={1:\"hello\",2:\"pmist\",3:\"MCA\",4:\"thanjavur\"}"
   ]
  },
  {
   "cell_type": "code",
   "execution_count": 6,
   "id": "aad92d20",
   "metadata": {},
   "outputs": [
    {
     "data": {
      "text/plain": [
       "'hello'"
      ]
     },
     "execution_count": 6,
     "metadata": {},
     "output_type": "execute_result"
    }
   ],
   "source": [
    "kathu[1]"
   ]
  },
  {
   "cell_type": "code",
   "execution_count": 7,
   "id": "23583f82",
   "metadata": {},
   "outputs": [
    {
     "data": {
      "text/plain": [
       "dict"
      ]
     },
     "execution_count": 7,
     "metadata": {},
     "output_type": "execute_result"
    }
   ],
   "source": [
    "type(kathu)"
   ]
  },
  {
   "cell_type": "code",
   "execution_count": 8,
   "id": "3ea63827",
   "metadata": {},
   "outputs": [],
   "source": [
    "kathu:[[1],[2]]"
   ]
  },
  {
   "cell_type": "code",
   "execution_count": 9,
   "id": "2464a144",
   "metadata": {},
   "outputs": [
    {
     "data": {
      "text/plain": [
       "{1: 'hello', 2: 'pmist', 3: 'MCA', 4: 'thanjavur'}"
      ]
     },
     "execution_count": 9,
     "metadata": {},
     "output_type": "execute_result"
    }
   ],
   "source": [
    "kathu"
   ]
  },
  {
   "cell_type": "code",
   "execution_count": 12,
   "id": "4e6c4f7d",
   "metadata": {},
   "outputs": [],
   "source": [
    "kathu3={'a',\"b\",120,20}"
   ]
  },
  {
   "cell_type": "code",
   "execution_count": 13,
   "id": "f03ed6c1",
   "metadata": {},
   "outputs": [
    {
     "data": {
      "text/plain": [
       "{120, 20, 'a', 'b'}"
      ]
     },
     "execution_count": 13,
     "metadata": {},
     "output_type": "execute_result"
    }
   ],
   "source": [
    "kathu3"
   ]
  },
  {
   "cell_type": "code",
   "execution_count": 14,
   "id": "1e079700",
   "metadata": {},
   "outputs": [
    {
     "data": {
      "text/plain": [
       "set"
      ]
     },
     "execution_count": 14,
     "metadata": {},
     "output_type": "execute_result"
    }
   ],
   "source": [
    "type(kathu3)"
   ]
  },
  {
   "cell_type": "code",
   "execution_count": null,
   "id": "c815da59",
   "metadata": {},
   "outputs": [],
   "source": []
  }
 ],
 "metadata": {
  "kernelspec": {
   "display_name": "Python 3 (ipykernel)",
   "language": "python",
   "name": "python3"
  },
  "language_info": {
   "codemirror_mode": {
    "name": "ipython",
    "version": 3
   },
   "file_extension": ".py",
   "mimetype": "text/x-python",
   "name": "python",
   "nbconvert_exporter": "python",
   "pygments_lexer": "ipython3",
   "version": "3.10.8"
  }
 },
 "nbformat": 4,
 "nbformat_minor": 5
}
